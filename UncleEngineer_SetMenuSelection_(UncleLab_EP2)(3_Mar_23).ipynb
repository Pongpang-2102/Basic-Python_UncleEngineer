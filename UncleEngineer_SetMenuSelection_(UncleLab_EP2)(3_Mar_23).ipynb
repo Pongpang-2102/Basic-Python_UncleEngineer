{
  "nbformat": 4,
  "nbformat_minor": 0,
  "metadata": {
    "colab": {
      "provenance": [],
      "authorship_tag": "ABX9TyMGwhiqDfAjjtGmO1JoyzDA",
      "include_colab_link": true
    },
    "kernelspec": {
      "name": "python3",
      "display_name": "Python 3"
    },
    "language_info": {
      "name": "python"
    }
  },
  "cells": [
    {
      "cell_type": "markdown",
      "metadata": {
        "id": "view-in-github",
        "colab_type": "text"
      },
      "source": [
        "<a href=\"https://colab.research.google.com/github/Pongpang-2102/UncleLab_Basic-Python_UncleEngineer/blob/main/UncleEngineer_SetMenuSelection_(UncleLab_EP2)(3_Mar_23).ipynb\" target=\"_parent\"><img src=\"https://colab.research.google.com/assets/colab-badge.svg\" alt=\"Open In Colab\"/></a>"
      ]
    },
    {
      "cell_type": "markdown",
      "source": [
        "# Challenge : Create Any program from Lesson we've just learnt today (Data Type / Data Structure) \n",
        "Note : It must be consisted of **at least 3 components** from list shown below\n",
        "\n",
        "(list/ Dictionary / For loop / function / Boolean / if-else elif)"
      ],
      "metadata": {
        "id": "TUAEg78YpBtS"
      }
    },
    {
      "cell_type": "code",
      "source": [
        "# ณ หน้าร้านปิ้งย่างชื่อดังแห่งหนึ่ง ๆ เพื่อน ๆ ทั้ง 4 คนปรึกษากันว่าวันนี้จะกินปิ้งย่างกันให้พุงกาง แค่จะกินเซตไหนดีล่ะ\n",
        "\n",
        "# Dictionary ข้อมูลเพื่อน ๆ ในกลุ่ม ประกอบด้วย ชื่อ และเงินที่พกมา\n",
        "team_members = {\"Pongpang\" : 1800 , \"Somchai\": 1500 , \"Beam\" : 1350 , \"Somsri\" : 910 }"
      ],
      "metadata": {
        "id": "ejAERLXFdCsO"
      },
      "execution_count": null,
      "outputs": []
    },
    {
      "cell_type": "code",
      "source": [
        "#  สร้าง function รับค่า Dictionary ข้อมูลเพื่อนๆ ในกลุ่ม \n",
        "def EatBuffet_or_Not(your_team) :\n",
        "  \n",
        "    team_members_money_list = []  # สร้าง empty list เพื่อรับค่าเงินที่เพื่อน ๆ พกมา\n",
        "    # แยกองค์ประกอบ key กับ value แล้วเอาเฉพาะ value (เงินที่พกมา)\n",
        "    for  member_name ,member_money in team_members.items()   :\n",
        "        team_members_money_list.append(member_money)\n",
        "\n",
        "    min_money = min(team_members_money_list)  # หาค่าเงินที่น้อยที่สุด เพื่อมาคำนวณว่าจะกินเซตไหน (เพราะไม่เลี้ยงแน่นอน )\n",
        "    print(f\"ในพวกเรา คนที่มีเงินน้อยสุดมี {min_money} THB\")\n",
        "\n",
        "    menu_set_wo_vat = {\"yakiniku\":399 , \"premium\": 649 ,\"prime\":849 , \"platinum\":1099 , \"prestige\": 1499 , \"ultra\":1999}\n",
        "    price_wt_vat = [] # หาค่าเงินที่น้อยที่สุด เพื่อมาคำนวณว่าจะกินเซตไหน (เพราะไม่เลี้ยงแน่นอน )\n",
        "\n",
        "    for menu_set , price_set in menu_set_wo_vat.items() :\n",
        "        price_set_with_vat = round((price_set*1.07),2)\n",
        "        price_wt_vat.append(price_set_with_vat)\n",
        "\n",
        "    # หาค่าเมนูที่ถูกที่สุด\n",
        "    min_price = min(price_wt_vat)\n",
        "    print(f\"ในร้านนี้ เมนูที่ถูกสุดอยู่ที่ {min_price} THB\")\n",
        "     \n",
        "    # กำหนดตัวแปร เพื่อให้เงื่อนไขไม่ยาวมาก เดี๋ยวตาลายครับ\n",
        "    a,b,c,d,e,f = price_wt_vat[0] ,price_wt_vat[1] , price_wt_vat[2] , price_wt_vat[3] , price_wt_vat[4] , price_wt_vat[5]\n",
        "\n",
        "    # สร้างเงื่อนไขเปรียบเทียบราคาแต่ละ set กับเงินที่มี (min)\n",
        "    if  min_money >= min_price : \n",
        "        # ป๋าสุด ได้หมด\n",
        "        if ( (min_money - a ) >= 0 ) and  ( (min_money - b) >= 0 ) and ( (min_money- c) >= 0 ) and  ( (min_money - d) >= 0 ) and ( (min_money- e) >= 0 ) and ( (min_money- f) >= 0 ) :\n",
        "            print(\"ได้ทุกเซตเลย เอา Ultra แพงสุดเลยละกัน\")\n",
        "        # ยกเว้นตัวท๊อป\n",
        "        elif ( (min_money- a ) >= 0 ) and  ( (min_money - b) >= 0 ) and ( (min_money- c) >= 0 ) and  ( (min_money - d) >= 0 ) and ( (min_money- e) >= 0 ) and ( (min_money- f) < 0 ) :\n",
        "            print(\"ได้หมดยกเว้นตัวท๊อบ เลือกได้ 5  อัน เอาไรดี\")\n",
        "        # เลือกได้ 4 อัน / ยากิ พรีเมี่ยม ไพร์ม แพลตินัม \n",
        "        elif ( (min_money- a ) >= 0 ) and  ( (min_money - b) >= 0 ) and ( (min_money- c) >= 0 ) and  ( (min_money - d) >= 0 ) and ( (min_money- e) < 0 ) and ( (min_money- f) < 0 ) :\n",
        "            print(\"เลือกได้ 4  อัน ยากิ พรีเมี่ยม ไพร์ม แพลตินัม เอาไรดี\")\n",
        "        # เลือกได้ 3 อัน / ยากิ พรีเมี่ยม ไพร์ม \n",
        "        elif ( (min_money- a ) >= 0 ) and  ( (min_money - b) >= 0 ) and ( (min_money- c) >= 0 ) and  ( (min_money - d) < 0 ) and ( (min_money- e) < 0 ) and ( (min_money- f) < 0 ) :\n",
        "            print(\"เลือกได้ 3  อัน ยากิ พรีเมี่ยม ไพร์ม  เอาไรดี\")\n",
        "        # เลือกได้ 2 อัน / ยากิ พรีเมี่ยม \n",
        "        elif ( (min_money- a ) >= 0 ) and  ( (min_money - b) >= 0 ) and ( (min_money- c) < 0 ) and  ( (min_money - d) < 0 ) and ( (min_money- e) < 0 ) and ( (min_money- f) < 0 ) :\n",
        "            print(\"เลือกได้ 2  อัน ยากิ กับ พรีเมี่ยม  เอาไรดี\")\n",
        "        # เงินน้อย กินเซตประหยัดก็ยังดี  \n",
        "        elif ( (min_money- a ) >= 0 ) and  ( (min_money - b) < 0 ) and ( (min_money- c) < 0 ) and  ( (min_money - d) < 0 ) and ( (min_money- e) < 0 ) and ( (min_money- f) < 0 ) :\n",
        "            print(\"เรากินเซต Yakinuku ได้ ไปลุยกันเถอะ\")\n",
        "    # เงินไม่พอ กลับบ้านก่อน\n",
        "    else :\n",
        "        print(\"กลับไปกินข้าวราดแกงข้างหอเถอะพวกเรา\")\n",
        "\n",
        "# ลองถามอับดุลดู ว่าไงก็ตามนั้นแหละ อิอิ\n",
        "EatBuffet_or_Not(team_members)\n",
        "\n"
      ],
      "metadata": {
        "colab": {
          "base_uri": "https://localhost:8080/"
        },
        "id": "sa5-LjrdRgzg",
        "outputId": "22f3f1c7-1347-4319-a8fe-d0cc55d8568d"
      },
      "execution_count": null,
      "outputs": [
        {
          "output_type": "stream",
          "name": "stdout",
          "text": [
            "ในพวกเรา คนที่มีเงินน้อยสุดมี 910 THB\n",
            "ในร้านนี้ เมนูที่ถูกสุดอยู่ที่ 426.93 THB\n",
            "เลือกได้ 3  อัน ยากิ พรีเมี่ยม ไพร์ม  เอาไรดี\n"
          ]
        }
      ]
    }
  ]
}